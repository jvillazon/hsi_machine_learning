{
 "cells": [
  {
   "cell_type": "code",
   "execution_count": null,
   "id": "545cd188",
   "metadata": {},
   "outputs": [
    {
     "name": "stderr",
     "output_type": "stream",
     "text": [
      "100%|██████████| 7/7 [00:02<00:00,  3.33it/s]\n",
      "100%|██████████| 26/26 [00:00<?, ?it/s]\n"
     ]
    }
   ],
   "source": [
    "# Artificial Data\n",
    "import numpy as np\n",
    "import pandas as pd\n",
    "import unsupervised_scripts\n",
    "\n",
    "## Initialize start and end of hyperspectral sweep; num_samp is calculated from image stack\n",
    "wavenum_1 = int(input('Enter first wavenumber/higher wavelength (Default=2700)): ').strip() or '2700')\n",
    "wavenum_2 = int(input('Enter last wavenumber/lower wavelength (Default=3100): ').strip() or '3100')\n",
    "num_samp = int(input('Enter HSI step size: ').strip()) \n",
    "ch_start = int(np.floor(num_samp/((wavenum_2-wavenum_1)/(2800-wavenum_1))))\n",
    "og_wavenum_1 = 2700\n",
    "og_wavenum_2 = 3100\n",
    "og_num_samp = 81\n",
    "og_ch_start = int(np.floor(og_num_samp/((og_wavenum_2-og_wavenum_1)/(2800-og_wavenum_1))))\n",
    "background_df = pd.read_csv('water_HSI_76.csv')\n",
    "molecule_df = pd.read_excel('lipid_subtype.xlsx')\n",
    "shift = 15\n",
    "\n",
    "## Training Directory (different for everyone)\n",
    "path_dir = 'D:/Shi_Lab/Spectral_Clustering/'\n",
    "data_dir = 'D:/Shi_Lab/Spectral_Clustering/ML/'\n",
    "sample_dir = data_dir + 'training_data/'+str(num_samp)+'/'\n",
    "\n",
    "artificial_dataset = unsupervised_scripts.artificial_dataset(wavenum_1, wavenum_2, num_samp, ch_start, background_df, shift)\n",
    "[_, noise_scale_vec, bg_scale_vec, ratio_scale_vec] = artificial_dataset.save_srs_params(sample_dir)\n",
    "[mol_norm, mol_names] = artificial_dataset.molecule_dataset(molecule_df)\n",
    "artificial_dataset.save_artificial_dataset(mol_norm, noise_scale_vec, bg_scale_vec, ratio_scale_vec, noise_param=1, num_values=1000, num_repeats=20, name='artificial_training_data-')"
   ]
  },
  {
   "cell_type": "code",
   "execution_count": 2,
   "id": "da10a5a5",
   "metadata": {},
   "outputs": [
    {
     "name": "stderr",
     "output_type": "stream",
     "text": [
      "100%|██████████| 7/7 [00:01<00:00,  6.61it/s]\n",
      "100%|██████████| 26/26 [00:00<00:00, 381.63it/s]\n"
     ]
    }
   ],
   "source": [
    "# DAE Data\n",
    "import numpy as np\n",
    "import pandas as pd\n",
    "import unsupervised_scripts\n",
    "\n",
    "## Initialize start and end of hyperspectral sweep; num_samp is calculated from image stack\n",
    "wavenum_1 = int(input('Enter first wavenumber/higher wavelength (Default=2700)): ').strip() or '2700')\n",
    "wavenum_2 = int(input('Enter last wavenumber/lower wavelength (Default=3100): ').strip() or '3100')\n",
    "num_samp = int(input('Enter HSI step size: ').strip()) \n",
    "ch_start = int(np.floor(num_samp/((wavenum_2-wavenum_1)/(2800-wavenum_1))))\n",
    "og_wavenum_1 = 2700\n",
    "og_wavenum_2 = 3100\n",
    "og_num_samp = 81\n",
    "og_ch_start = int(np.floor(og_num_samp/((og_wavenum_2-og_wavenum_1)/(2800-og_wavenum_1))))\n",
    "background_df = pd.read_csv('water_HSI_76.csv')\n",
    "molecule_df = pd.read_excel('lipid_subtype.xlsx')\n",
    "shift = 15\n",
    "\n",
    "## Training Directory (different for everyone)\n",
    "path_dir = 'D:/Shi_Lab/Spectral_Clustering/'\n",
    "data_dir = 'D:/Shi_Lab/Spectral_Clustering/ML/'\n",
    "sample_dir = data_dir + 'training_data/'+str(num_samp)+'/'\n",
    "\n",
    "artificial_dataset = unsupervised_scripts.artificial_dataset(wavenum_1, wavenum_2, num_samp, ch_start, background_df, shift)\n",
    "[_, noise_scale_vec, bg_scale_vec, ratio_scale_vec] = artificial_dataset.save_srs_params(sample_dir)\n",
    "[mol_norm, mol_names] = artificial_dataset.molecule_dataset(molecule_df)\n",
    "artificial_dataset.save_artificial_dataset(mol_norm, noise_scale_vec, bg_scale_vec, ratio_scale_vec, noise_param=1, num_values=10000, num_repeats=20, name='denoising_training_data-')\n"
   ]
  },
  {
   "cell_type": "code",
   "execution_count": null,
   "id": "fc3d525b",
   "metadata": {},
   "outputs": [],
   "source": []
  }
 ],
 "metadata": {
  "kernelspec": {
   "display_name": "Shi",
   "language": "python",
   "name": "python3"
  },
  "language_info": {
   "codemirror_mode": {
    "name": "ipython",
    "version": 3
   },
   "file_extension": ".py",
   "mimetype": "text/x-python",
   "name": "python",
   "nbconvert_exporter": "python",
   "pygments_lexer": "ipython3",
   "version": "3.11.9"
  }
 },
 "nbformat": 4,
 "nbformat_minor": 5
}
