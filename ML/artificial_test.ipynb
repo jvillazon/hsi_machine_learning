{
 "cells": [
  {
   "metadata": {
    "ExecuteTime": {
     "end_time": "2025-04-09T03:30:10.397284Z",
     "start_time": "2025-04-09T03:30:03.995686Z"
    }
   },
   "cell_type": "code",
   "source": [
    "import os\n",
    "\n",
    "# Artificial Data\n",
    "import numpy as np\n",
    "import pandas as pd\n",
    "import unsupervised_scripts\n",
    "\n",
    "## Initialize start and end of hyperspectral sweep; num_samp is calculated from image stack\n",
    "wavenum_1 = int(input('Enter first wavenumber/higher wavelength (Default=2700)): ').strip() or '2700')\n",
    "wavenum_2 = int(input('Enter last wavenumber/lower wavelength (Default=3100): ').strip() or '3100')\n",
    "num_samp = int(input('Enter HSI step size: ').strip())\n",
    "ch_start = int(np.floor(num_samp/((wavenum_2-wavenum_1)/(2800-wavenum_1))))\n",
    "background_df = pd.read_csv('water_HSI_76.csv')\n",
    "molecule_df = pd.read_excel('lipid_subtype.xlsx')\n",
    "shift = 0\n",
    "\n",
    "## Training Directory (different for everyone)\n",
    "path_dir = ''\n",
    "data_dir = os.getcwd()+\"/\"\n",
    "sample_dir = data_dir + 'training_data/'+str(num_samp)+'-'+str(wavenum_1)+'-'+str(wavenum_2)+'/'\n",
    "\n",
    "artificial_dataset = unsupervised_scripts.artificial_dataset(wavenum_1, wavenum_2, num_samp, ch_start, background_df, shift)\n",
    "[_, noise_scale_vec, bg_scale_vec, ratio_scale_vec] = artificial_dataset.save_srs_params(sample_dir)\n",
    "[mol_norm, mol_names] = artificial_dataset.molecule_dataset(molecule_df)\n",
    "artificial_dataset.save_artificial_dataset(mol_norm, noise_scale_vec, bg_scale_vec, ratio_scale_vec, noise_param=0.2, ch_param=1, num_values=1000, num_repeats=10, name='artificial_training_data-')"
   ],
   "id": "545cd188",
   "outputs": [
    {
     "name": "stderr",
     "output_type": "stream",
     "text": [
      "100%|██████████| 13/13 [00:00<00:00, 93.38it/s]\n",
      "100%|██████████| 26/26 [00:00<00:00, 7885.74it/s]\n"
     ]
    }
   ],
   "execution_count": 1
  },
  {
   "metadata": {
    "ExecuteTime": {
     "end_time": "2025-04-01T01:03:52.737671Z",
     "start_time": "2025-04-01T01:03:52.731305Z"
    }
   },
   "cell_type": "code",
   "source": "np.max(ratio_scale_vec)",
   "id": "56f98a9692e318f3",
   "outputs": [
    {
     "data": {
      "text/plain": [
       "np.float64(0.8410926365795725)"
      ]
     },
     "execution_count": 2,
     "metadata": {},
     "output_type": "execute_result"
    }
   ],
   "execution_count": 2
  },
  {
   "cell_type": "code",
   "id": "da10a5a5",
   "metadata": {
    "ExecuteTime": {
     "end_time": "2025-03-29T01:30:58.392662Z",
     "start_time": "2025-03-29T01:30:50.893699Z"
    }
   },
   "source": [
    "# # DAE Data\n",
    "import numpy as np\n",
    "import pandas as pd\n",
    "import unsupervised_scripts\n",
    "\n",
    "## Initialize start and end of hyperspectral sweep; num_samp is calculated from image stack\n",
    "wavenum_1 = int(input('Enter first wavenumber/higher wavelength (Default=2700)): ').strip() or '2700')\n",
    "wavenum_2 = int(input('Enter last wavenumber/lower wavelength (Default=3100): ').strip() or '3100')\n",
    "num_samp = int(input('Enter HSI step size: ').strip())\n",
    "ch_start = int(np.floor(num_samp/((wavenum_2-wavenum_1)/(2800-wavenum_1))))\n",
    "background_df = pd.read_csv('water_HSI_76.csv')\n",
    "molecule_df = pd.read_excel('lipid_subtype.xlsx')\n",
    "shift = 15\n",
    "\n",
    "## Training Directory (different for everyone)\n",
    "path_dir = 'D:/Shi_Lab/Spectral_Clustering/'\n",
    "data_dir = 'D:/Shi_Lab/Spectral_Clustering/ML/'\n",
    "sample_dir = 'training_data/'+str(num_samp)+'-'+str(wavenum_1)+'-'+str(wavenum_2)+'/'\n",
    "\n",
    "artificial_dataset = unsupervised_scripts.artificial_dataset(wavenum_1, wavenum_2, num_samp, ch_start, background_df, shift)\n",
    "[_, noise_scale_vec, bg_scale_vec, ratio_scale_vec] = artificial_dataset.save_srs_params(sample_dir)\n",
    "[mol_norm, mol_names] = artificial_dataset.molecule_dataset(molecule_df)\n",
    "data_norm = artificial_dataset.DAE_dataset(mol_norm)\n",
    "artificial_dataset.save_artificial_dataset(data_norm, noise_scale_vec, bg_scale_vec, ratio_scale_vec, noise_param=1, ch_param=2, num_values=1000, num_repeats=20, name='denoising_training_data-')\n",
    "np.save('artificial_data/denoising-labels-'+str(wavenum_1)+'_'+str(wavenum_2)+'_'+str(num_samp)+'.npy', data_norm)\n"
   ],
   "outputs": [
    {
     "name": "stderr",
     "output_type": "stream",
     "text": [
      "100%|██████████| 13/13 [00:00<00:00, 44.24it/s]\n",
      "100%|██████████| 24/24 [00:00<00:00, 135482.23it/s]\n",
      "100%|██████████| 23/23 [00:00<00:00, 147731.99it/s]\n",
      "100%|██████████| 22/22 [00:00<00:00, 135102.03it/s]\n",
      "100%|██████████| 21/21 [00:00<00:00, 149796.57it/s]\n",
      "100%|██████████| 20/20 [00:00<00:00, 136178.70it/s]\n",
      "100%|██████████| 19/19 [00:00<00:00, 140549.87it/s]\n",
      "100%|██████████| 18/18 [00:00<00:00, 140591.20it/s]\n",
      "100%|██████████| 17/17 [00:00<00:00, 146413.08it/s]\n",
      "100%|██████████| 16/16 [00:00<00:00, 86592.08it/s]\n",
      "100%|██████████| 15/15 [00:00<00:00, 128135.56it/s]\n",
      "100%|██████████| 14/14 [00:00<00:00, 51239.32it/s]\n",
      "100%|██████████| 13/13 [00:00<00:00, 38371.54it/s]\n",
      "100%|██████████| 12/12 [00:00<00:00, 52648.17it/s]\n",
      "100%|██████████| 11/11 [00:00<00:00, 109850.82it/s]\n",
      "100%|██████████| 10/10 [00:00<00:00, 119156.36it/s]\n",
      "100%|██████████| 9/9 [00:00<00:00, 55269.01it/s]\n",
      "100%|██████████| 8/8 [00:00<00:00, 69615.00it/s]\n",
      "100%|██████████| 7/7 [00:00<00:00, 105993.24it/s]\n",
      "100%|██████████| 6/6 [00:00<00:00, 98304.00it/s]\n",
      "100%|██████████| 5/5 [00:00<00:00, 89240.51it/s]\n",
      "100%|██████████| 4/4 [00:00<00:00, 53261.00it/s]\n",
      "100%|██████████| 3/3 [00:00<00:00, 74898.29it/s]\n",
      "100%|██████████| 2/2 [00:00<00:00, 52428.80it/s]\n",
      "100%|██████████| 1/1 [00:00<00:00, 30174.85it/s]\n",
      "100%|██████████| 326/326 [00:00<00:00, 6144.48it/s]\n"
     ]
    }
   ],
   "execution_count": 2
  },
  {
   "cell_type": "code",
   "execution_count": null,
   "id": "fc3d525b",
   "metadata": {},
   "outputs": [],
   "source": []
  }
 ],
 "metadata": {
  "kernelspec": {
   "display_name": "Shi",
   "language": "python",
   "name": "python3"
  },
  "language_info": {
   "codemirror_mode": {
    "name": "ipython",
    "version": 3
   },
   "file_extension": ".py",
   "mimetype": "text/x-python",
   "name": "python",
   "nbconvert_exporter": "python",
   "pygments_lexer": "ipython3",
   "version": "3.12.0"
  }
 },
 "nbformat": 4,
 "nbformat_minor": 5
}
