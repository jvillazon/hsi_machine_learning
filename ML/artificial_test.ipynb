{
 "cells": [
  {
   "metadata": {
    "ExecuteTime": {
     "end_time": "2025-04-23T21:13:32.084905Z",
     "start_time": "2025-04-23T21:13:26.728811Z"
    }
   },
   "cell_type": "code",
   "source": [
    "import os\n",
    "\n",
    "# Artificial Data\n",
    "import numpy as np\n",
    "import pandas as pd\n",
    "import unsupervised_scripts\n",
    "\n",
    "## Initialize start and end of hyperspectral sweep; num_samp is calculated from image stack\n",
    "wavenum_1 = int(input('Enter first wavenumber/higher wavelength (Default=2700)): ').strip() or '2700')\n",
    "wavenum_2 = int(input('Enter last wavenumber/lower wavelength (Default=3100): ').strip() or '3100')\n",
    "num_samp = int(input('Enter HSI step size: ').strip())\n",
    "ch_start = int(np.floor(num_samp/((wavenum_2-wavenum_1)/(2800-wavenum_1))))\n",
    "background_df = pd.read_csv('water_HSI_76.csv')\n",
    "molecule_df = pd.read_excel('lipid_subtype.xlsx')\n",
    "shift = 20\n",
    "\n",
    "## Training Directory (different for everyone)\n",
    "data_dir = os.getcwd()+\"/\"\n",
    "sample_dir = data_dir + 'training_data/'+str(num_samp)+'-'+str(wavenum_1)+'-'+str(wavenum_2)+'/'\n",
    "\n",
    "artificial_dataset = unsupervised_scripts.artificial_dataset(wavenum_1, wavenum_2, num_samp, ch_start, background_df, shift)\n",
    "[_, noise_scale_vec, bg_scale_vec, ratio_scale_vec] = artificial_dataset.save_srs_params(sample_dir)\n",
    "[mol_norm, mol_names] = artificial_dataset.molecule_dataset(molecule_df)\n",
    "artificial_dataset.save_artificial_dataset(mol_norm, noise_scale_vec, bg_scale_vec, ratio_scale_vec, noise_param=0.2, ch_param=1, num_values=1000, num_repeats=10, name='artificial_training_data-')"
   ],
   "id": "545cd188",
   "outputs": [
    {
     "name": "stderr",
     "output_type": "stream",
     "text": [
      "100%|██████████| 9/9 [00:00<00:00, 27.41it/s]\n",
      "26it [00:00, 7230.12it/s]\n"
     ]
    }
   ],
   "execution_count": 1
  },
  {
   "metadata": {},
   "cell_type": "code",
   "outputs": [],
   "execution_count": null,
   "source": "",
   "id": "35e8aa52be2f0a62"
  }
 ],
 "metadata": {
  "kernelspec": {
   "display_name": "Shi",
   "language": "python",
   "name": "python3"
  },
  "language_info": {
   "codemirror_mode": {
    "name": "ipython",
    "version": 3
   },
   "file_extension": ".py",
   "mimetype": "text/x-python",
   "name": "python",
   "nbconvert_exporter": "python",
   "pygments_lexer": "ipython3",
   "version": "3.12.0"
  }
 },
 "nbformat": 4,
 "nbformat_minor": 5
}
