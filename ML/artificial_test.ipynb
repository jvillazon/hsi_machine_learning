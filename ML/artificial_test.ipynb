{
 "cells": [
  {
   "cell_type": "code",
   "execution_count": 2,
   "id": "545cd188",
   "metadata": {},
   "outputs": [
    {
     "name": "stderr",
     "output_type": "stream",
     "text": [
      "100%|██████████| 4/4 [00:03<00:00,  1.20it/s]\n",
      "100%|██████████| 26/26 [00:00<?, ?it/s]\n"
     ]
    }
   ],
   "source": [
    "# Artificial Data\n",
    "import numpy as np\n",
    "import pandas as pd\n",
    "import unsupervised_scripts\n",
    "\n",
    "## Initialize start and end of hyperspectral sweep; num_samp is calculated from image stack\n",
    "wavenum_1 = int(input('Enter first wavenumber/higher wavelength (Default=2700)): ').strip() or '2700')\n",
    "wavenum_2 = int(input('Enter last wavenumber/lower wavelength (Default=3100): ').strip() or '3100')\n",
    "num_samp = int(input('Enter HSI step size: ').strip()) \n",
    "ch_start = int(np.floor(num_samp/((wavenum_2-wavenum_1)/(2800-wavenum_1))))\n",
    "background_df = pd.read_csv('water_HSI_76.csv')\n",
    "molecule_df = pd.read_excel('lipid_subtype.xlsx')\n",
    "shift = 15\n",
    "\n",
    "## Training Directory (different for everyone)\n",
    "path_dir = 'D:/Shi_Lab/Spectral_Clustering/'\n",
    "data_dir = 'D:/Shi_Lab/Spectral_Clustering/ML/'\n",
    "sample_dir = data_dir + 'training_data/'+str(num_samp)+'/'\n",
    "\n",
    "artificial_dataset = unsupervised_scripts.artificial_dataset(wavenum_1, wavenum_2, num_samp, ch_start, background_df, shift)\n",
    "[_, noise_scale_vec, bg_scale_vec, ratio_scale_vec] = artificial_dataset.save_srs_params(sample_dir)\n",
    "[mol_norm, mol_names] = artificial_dataset.molecule_dataset(molecule_df)\n",
    "artificial_dataset.save_artificial_dataset(mol_norm, noise_scale_vec, bg_scale_vec, ratio_scale_vec, noise_param=1, ch_param=1, num_values=500, num_repeats=10, name='artificial_training_data-')"
   ]
  },
  {
   "cell_type": "code",
   "execution_count": 1,
   "id": "da10a5a5",
   "metadata": {},
   "outputs": [
    {
     "name": "stderr",
     "output_type": "stream",
     "text": [
      "100%|██████████| 6/6 [00:00<00:00, 78.77it/s]\n",
      "100%|██████████| 24/24 [00:00<?, ?it/s]\n",
      "100%|██████████| 23/23 [00:00<?, ?it/s]\n",
      "100%|██████████| 22/22 [00:00<?, ?it/s]\n",
      "100%|██████████| 21/21 [00:00<?, ?it/s]\n",
      "100%|██████████| 20/20 [00:00<?, ?it/s]\n",
      "100%|██████████| 19/19 [00:00<?, ?it/s]\n",
      "100%|██████████| 18/18 [00:00<?, ?it/s]\n",
      "100%|██████████| 17/17 [00:00<?, ?it/s]\n",
      "100%|██████████| 16/16 [00:00<?, ?it/s]\n",
      "100%|██████████| 15/15 [00:00<?, ?it/s]\n",
      "100%|██████████| 14/14 [00:00<?, ?it/s]\n",
      "100%|██████████| 13/13 [00:00<?, ?it/s]\n",
      "100%|██████████| 12/12 [00:00<?, ?it/s]\n",
      "100%|██████████| 11/11 [00:00<?, ?it/s]\n",
      "100%|██████████| 10/10 [00:00<?, ?it/s]\n",
      "100%|██████████| 9/9 [00:00<?, ?it/s]\n",
      "100%|██████████| 8/8 [00:00<?, ?it/s]\n",
      "100%|██████████| 7/7 [00:00<?, ?it/s]\n",
      "100%|██████████| 6/6 [00:00<?, ?it/s]\n",
      "100%|██████████| 5/5 [00:00<?, ?it/s]\n",
      "100%|██████████| 4/4 [00:00<?, ?it/s]\n",
      "100%|██████████| 3/3 [00:00<?, ?it/s]\n",
      "100%|██████████| 2/2 [00:00<00:00, 2006.36it/s]\n",
      "100%|██████████| 1/1 [00:00<?, ?it/s]\n"
     ]
    },
    {
     "ename": "ValueError",
     "evalue": "scale < 0",
     "output_type": "error",
     "traceback": [
      "\u001b[1;31m---------------------------------------------------------------------------\u001b[0m",
      "\u001b[1;31mValueError\u001b[0m                                Traceback (most recent call last)",
      "Cell \u001b[1;32mIn[1], line 24\u001b[0m\n\u001b[0;32m     22\u001b[0m [mol_norm, mol_names] \u001b[38;5;241m=\u001b[39m artificial_dataset\u001b[38;5;241m.\u001b[39mmolecule_dataset(molecule_df)\n\u001b[0;32m     23\u001b[0m data_norm \u001b[38;5;241m=\u001b[39m artificial_dataset\u001b[38;5;241m.\u001b[39mDAE_dataset(mol_norm)\n\u001b[1;32m---> 24\u001b[0m artificial_dataset\u001b[38;5;241m.\u001b[39msave_artificial_dataset(data_norm, noise_scale_vec, bg_scale_vec, ratio_scale_vec, noise_param\u001b[38;5;241m=\u001b[39m\u001b[38;5;241m1\u001b[39m, num_values\u001b[38;5;241m=\u001b[39m\u001b[38;5;241m1000\u001b[39m, num_repeats\u001b[38;5;241m=\u001b[39m\u001b[38;5;241m20\u001b[39m, name\u001b[38;5;241m=\u001b[39m\u001b[38;5;124m'\u001b[39m\u001b[38;5;124mdenoising_training_data-\u001b[39m\u001b[38;5;124m'\u001b[39m)\n\u001b[0;32m     25\u001b[0m np\u001b[38;5;241m.\u001b[39msave(\u001b[38;5;124m'\u001b[39m\u001b[38;5;124martificial_data/denoising-labels-\u001b[39m\u001b[38;5;124m'\u001b[39m\u001b[38;5;241m+\u001b[39m\u001b[38;5;28mstr\u001b[39m(wavenum_1)\u001b[38;5;241m+\u001b[39m\u001b[38;5;124m'\u001b[39m\u001b[38;5;124m_\u001b[39m\u001b[38;5;124m'\u001b[39m\u001b[38;5;241m+\u001b[39m\u001b[38;5;28mstr\u001b[39m(wavenum_2)\u001b[38;5;241m+\u001b[39m\u001b[38;5;124m'\u001b[39m\u001b[38;5;124m_\u001b[39m\u001b[38;5;124m'\u001b[39m\u001b[38;5;241m+\u001b[39m\u001b[38;5;28mstr\u001b[39m(num_samp)\u001b[38;5;241m+\u001b[39m\u001b[38;5;124m'\u001b[39m\u001b[38;5;124m.npy\u001b[39m\u001b[38;5;124m'\u001b[39m, data_norm)\n",
      "File \u001b[1;32md:\\Shi_Lab\\Spectral_Clustering\\ML\\unsupervised_scripts.py:194\u001b[0m, in \u001b[0;36martificial_dataset.save_artificial_dataset\u001b[1;34m(self, mol_norm, noise_scale_vec, bg_scale_vec, ratio_scale_vec, num_values, num_repeats, bg_param, ch_param, noise_param, name)\u001b[0m\n\u001b[0;32m    192\u001b[0m noise_scale \u001b[38;5;241m=\u001b[39m noise_param\u001b[38;5;241m*\u001b[39mnp\u001b[38;5;241m.\u001b[39mrandom\u001b[38;5;241m.\u001b[39mnormal(np\u001b[38;5;241m.\u001b[39mmean(noise_scale_vec),np\u001b[38;5;241m.\u001b[39mmean(noise_scale_vec)\u001b[38;5;241m/\u001b[39m\u001b[38;5;241m3\u001b[39m,\u001b[38;5;28mlen\u001b[39m(random_integers))\n\u001b[0;32m    193\u001b[0m background \u001b[38;5;241m=\u001b[39m np\u001b[38;5;241m.\u001b[39mflip(np\u001b[38;5;241m.\u001b[39mouter(background_scale, \u001b[38;5;28mself\u001b[39m\u001b[38;5;241m.\u001b[39mbackground),axis\u001b[38;5;241m=\u001b[39m\u001b[38;5;241m1\u001b[39m)\n\u001b[1;32m--> 194\u001b[0m noise \u001b[38;5;241m=\u001b[39m np\u001b[38;5;241m.\u001b[39mrandom\u001b[38;5;241m.\u001b[39mnormal(\u001b[38;5;241m0\u001b[39m, noise_scale, (\u001b[38;5;28mself\u001b[39m\u001b[38;5;241m.\u001b[39mnum_samp, num_values))\u001b[38;5;241m.\u001b[39mT\n\u001b[0;32m    195\u001b[0m artificial_mol \u001b[38;5;241m=\u001b[39m np\u001b[38;5;241m.\u001b[39mzeros((mol_norm\u001b[38;5;241m.\u001b[39mshape[\u001b[38;5;241m0\u001b[39m], num_values, mol_norm\u001b[38;5;241m.\u001b[39mshape[\u001b[38;5;241m1\u001b[39m]), dtype\u001b[38;5;241m=\u001b[39m\u001b[38;5;124m'\u001b[39m\u001b[38;5;124mfloat32\u001b[39m\u001b[38;5;124m'\u001b[39m)\n\u001b[0;32m    196\u001b[0m \u001b[38;5;28;01mfor\u001b[39;00m mol_index \u001b[38;5;129;01min\u001b[39;00m tqdm(\u001b[38;5;28mrange\u001b[39m(\u001b[38;5;28mlen\u001b[39m(mol_norm))):\n",
      "File \u001b[1;32mmtrand.pyx:1540\u001b[0m, in \u001b[0;36mnumpy.random.mtrand.RandomState.normal\u001b[1;34m()\u001b[0m\n",
      "File \u001b[1;32m_common.pyx:600\u001b[0m, in \u001b[0;36mnumpy.random._common.cont\u001b[1;34m()\u001b[0m\n",
      "File \u001b[1;32m_common.pyx:505\u001b[0m, in \u001b[0;36mnumpy.random._common.cont_broadcast_2\u001b[1;34m()\u001b[0m\n",
      "File \u001b[1;32m_common.pyx:384\u001b[0m, in \u001b[0;36mnumpy.random._common.check_array_constraint\u001b[1;34m()\u001b[0m\n",
      "\u001b[1;31mValueError\u001b[0m: scale < 0"
     ]
    }
   ],
   "source": [
    "# DAE Data\n",
    "import numpy as np\n",
    "import pandas as pd\n",
    "import unsupervised_scripts\n",
    "\n",
    "## Initialize start and end of hyperspectral sweep; num_samp is calculated from image stack\n",
    "wavenum_1 = int(input('Enter first wavenumber/higher wavelength (Default=2700)): ').strip() or '2700')\n",
    "wavenum_2 = int(input('Enter last wavenumber/lower wavelength (Default=3100): ').strip() or '3100')\n",
    "num_samp = int(input('Enter HSI step size: ').strip()) \n",
    "ch_start = int(np.floor(num_samp/((wavenum_2-wavenum_1)/(2800-wavenum_1))))\n",
    "background_df = pd.read_csv('water_HSI_76.csv')\n",
    "molecule_df = pd.read_excel('lipid_subtype.xlsx')\n",
    "shift = 15\n",
    "\n",
    "## Training Directory (different for everyone)\n",
    "path_dir = 'D:/Shi_Lab/Spectral_Clustering/'\n",
    "data_dir = 'D:/Shi_Lab/Spectral_Clustering/ML/'\n",
    "sample_dir = data_dir + 'training_data/'+str(num_samp)+'/'\n",
    "\n",
    "artificial_dataset = unsupervised_scripts.artificial_dataset(wavenum_1, wavenum_2, num_samp, ch_start, background_df, shift)\n",
    "[_, noise_scale_vec, bg_scale_vec, ratio_scale_vec] = artificial_dataset.save_srs_params(sample_dir)\n",
    "[mol_norm, mol_names] = artificial_dataset.molecule_dataset(molecule_df)\n",
    "data_norm = artificial_dataset.DAE_dataset(mol_norm)\n",
    "artificial_dataset.save_artificial_dataset(data_norm, noise_scale_vec, bg_scale_vec, ratio_scale_vec, noise_param=1, num_values=1000, num_repeats=20, name='denoising_training_data-')\n",
    "np.save('artificial_data/denoising-labels-'+str(wavenum_1)+'_'+str(wavenum_2)+'_'+str(num_samp)+'.npy', data_norm)\n"
   ]
  },
  {
   "cell_type": "code",
   "execution_count": null,
   "id": "fc3d525b",
   "metadata": {},
   "outputs": [],
   "source": []
  }
 ],
 "metadata": {
  "kernelspec": {
   "display_name": "Shi",
   "language": "python",
   "name": "python3"
  },
  "language_info": {
   "codemirror_mode": {
    "name": "ipython",
    "version": 3
   },
   "file_extension": ".py",
   "mimetype": "text/x-python",
   "name": "python",
   "nbconvert_exporter": "python",
   "pygments_lexer": "ipython3",
   "version": "3.11.9"
  }
 },
 "nbformat": 4,
 "nbformat_minor": 5
}
