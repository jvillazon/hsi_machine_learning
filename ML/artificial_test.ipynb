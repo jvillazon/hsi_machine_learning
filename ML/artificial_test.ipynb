{
 "cells": [
  {
   "cell_type": "code",
   "execution_count": 3,
   "id": "545cd188",
   "metadata": {},
   "outputs": [
    {
     "name": "stderr",
     "output_type": "stream",
     "text": [
      "100%|██████████| 12/12 [00:00<00:00, 40.70it/s]\n",
      "100%|██████████| 26/26 [00:00<00:00, 10344.52it/s]\n"
     ]
    }
   ],
   "source": [
    "# Artificial Data\n",
    "import numpy as np\n",
    "import pandas as pd\n",
    "import unsupervised_scripts\n",
    "\n",
    "## Initialize start and end of hyperspectral sweep; num_samp is calculated from image stack\n",
    "wavenum_1 = int(input('Enter first wavenumber/higher wavelength (Default=2700)): ').strip() or '2700')\n",
    "wavenum_2 = int(input('Enter last wavenumber/lower wavelength (Default=3100): ').strip() or '3100')\n",
    "num_samp = int(input('Enter HSI step size: ').strip()) \n",
    "ch_start = int(np.floor(num_samp/((wavenum_2-wavenum_1)/(2800-wavenum_1))))\n",
    "background_df = pd.read_csv('water_HSI_76.csv')\n",
    "molecule_df = pd.read_excel('lipid_subtype.xlsx')\n",
    "shift = 15\n",
    "\n",
    "## Training Directory (different for everyone)\n",
    "path_dir = 'D:/Shi_Lab/Spectral_Clustering/'\n",
    "data_dir = 'D:/Shi_Lab/Spectral_Clustering/ML/'\n",
    "sample_dir = data_dir + 'training_data/'+str(num_samp)+'-'+str(wavenum_1)+'-'+str(wavenum_2)+'/'\n",
    "\n",
    "artificial_dataset = unsupervised_scripts.artificial_dataset(wavenum_1, wavenum_2, num_samp, ch_start, background_df, shift)\n",
    "[_, noise_scale_vec, bg_scale_vec, ratio_scale_vec] = artificial_dataset.save_srs_params(sample_dir)\n",
    "[mol_norm, mol_names] = artificial_dataset.molecule_dataset(molecule_df)\n",
    "artificial_dataset.save_artificial_dataset(mol_norm, noise_scale_vec, bg_scale_vec, ratio_scale_vec, noise_param=0.4, ch_param=1, num_values=500, num_repeats=10, name='artificial_training_data-')"
   ]
  },
  {
   "cell_type": "code",
   "execution_count": null,
   "id": "da10a5a5",
   "metadata": {},
   "outputs": [
    {
     "ename": "FileNotFoundError",
     "evalue": "[WinError 3] The system cannot find the path specified: 'D:/Shi_Lab/Spectral_Clustering/ML/training_data/61/'",
     "output_type": "error",
     "traceback": [
      "\u001b[1;31m---------------------------------------------------------------------------\u001b[0m",
      "\u001b[1;31mFileNotFoundError\u001b[0m                         Traceback (most recent call last)",
      "Cell \u001b[1;32mIn[2], line 21\u001b[0m\n\u001b[0;32m     18\u001b[0m sample_dir \u001b[38;5;241m=\u001b[39m data_dir \u001b[38;5;241m+\u001b[39m \u001b[38;5;124m'\u001b[39m\u001b[38;5;124mtraining_data/\u001b[39m\u001b[38;5;124m'\u001b[39m\u001b[38;5;241m+\u001b[39m\u001b[38;5;28mstr\u001b[39m(num_samp)\u001b[38;5;241m+\u001b[39m\u001b[38;5;124m'\u001b[39m\u001b[38;5;124m/\u001b[39m\u001b[38;5;124m'\u001b[39m\n\u001b[0;32m     20\u001b[0m artificial_dataset \u001b[38;5;241m=\u001b[39m unsupervised_scripts\u001b[38;5;241m.\u001b[39martificial_dataset(wavenum_1, wavenum_2, num_samp, ch_start, background_df, shift)\n\u001b[1;32m---> 21\u001b[0m [_, noise_scale_vec, bg_scale_vec, ratio_scale_vec] \u001b[38;5;241m=\u001b[39m artificial_dataset\u001b[38;5;241m.\u001b[39msave_srs_params(sample_dir)\n\u001b[0;32m     22\u001b[0m [mol_norm, mol_names] \u001b[38;5;241m=\u001b[39m artificial_dataset\u001b[38;5;241m.\u001b[39mmolecule_dataset(molecule_df)\n\u001b[0;32m     23\u001b[0m data_norm \u001b[38;5;241m=\u001b[39m artificial_dataset\u001b[38;5;241m.\u001b[39mDAE_dataset(mol_norm)\n",
      "File \u001b[1;32md:\\Shi_Lab\\Spectral_Clustering\\ML\\unsupervised_scripts.py:155\u001b[0m, in \u001b[0;36martificial_dataset.save_srs_params\u001b[1;34m(self, data_dir)\u001b[0m\n\u001b[0;32m    152\u001b[0m \u001b[38;5;28;01mdef\u001b[39;00m \u001b[38;5;21msave_srs_params\u001b[39m(\u001b[38;5;28mself\u001b[39m, data_dir):\n\u001b[0;32m    154\u001b[0m     count \u001b[38;5;241m=\u001b[39m \u001b[38;5;241m0\u001b[39m\n\u001b[1;32m--> 155\u001b[0m     data_list \u001b[38;5;241m=\u001b[39m os\u001b[38;5;241m.\u001b[39mlistdir(data_dir)\n\u001b[0;32m    156\u001b[0m     \u001b[38;5;28;01mfor\u001b[39;00m name \u001b[38;5;129;01min\u001b[39;00m tqdm(data_list):\n\u001b[0;32m    157\u001b[0m         image \u001b[38;5;241m=\u001b[39m io\u001b[38;5;241m.\u001b[39mimread(data_dir \u001b[38;5;241m+\u001b[39m name)\n",
      "\u001b[1;31mFileNotFoundError\u001b[0m: [WinError 3] The system cannot find the path specified: 'D:/Shi_Lab/Spectral_Clustering/ML/training_data/61/'"
     ]
    }
   ],
   "source": [
    "# DAE Data\n",
    "import numpy as np\n",
    "import pandas as pd\n",
    "import unsupervised_scripts\n",
    "\n",
    "## Initialize start and end of hyperspectral sweep; num_samp is calculated from image stack\n",
    "wavenum_1 = int(input('Enter first wavenumber/higher wavelength (Default=2700)): ').strip() or '2700')\n",
    "wavenum_2 = int(input('Enter last wavenumber/lower wavelength (Default=3100): ').strip() or '3100')\n",
    "num_samp = int(input('Enter HSI step size: ').strip()) \n",
    "ch_start = int(np.floor(num_samp/((wavenum_2-wavenum_1)/(2800-wavenum_1))))\n",
    "background_df = pd.read_csv('water_HSI_76.csv')\n",
    "molecule_df = pd.read_excel('lipid_subtype.xlsx')\n",
    "shift = 15\n",
    "\n",
    "## Training Directory (different for everyone)\n",
    "path_dir = 'D:/Shi_Lab/Spectral_Clustering/'\n",
    "data_dir = 'D:/Shi_Lab/Spectral_Clustering/ML/'\n",
    "sample_dir = data_dir + 'training_data/'+str(num_samp)+'/'\n",
    "\n",
    "artificial_dataset = unsupervised_scripts.artificial_dataset(wavenum_1, wavenum_2, num_samp, ch_start, background_df, shift)\n",
    "[_, noise_scale_vec, bg_scale_vec, ratio_scale_vec] = artificial_dataset.save_srs_params(sample_dir)\n",
    "[mol_norm, mol_names] = artificial_dataset.molecule_dataset(molecule_df)\n",
    "data_norm = artificial_dataset.DAE_dataset(mol_norm)\n",
    "artificial_dataset.save_artificial_dataset(data_norm, noise_scale_vec, bg_scale_vec, ratio_scale_vec, noise_param=1, num_values=1000, num_repeats=20, name='denoising_training_data-')\n",
    "np.save('artificial_data/denoising-labels-'+str(wavenum_1)+'_'+str(wavenum_2)+'_'+str(num_samp)+'.npy', data_norm)\n"
   ]
  },
  {
   "cell_type": "code",
   "execution_count": null,
   "id": "fc3d525b",
   "metadata": {},
   "outputs": [],
   "source": []
  }
 ],
 "metadata": {
  "kernelspec": {
   "display_name": "Shi",
   "language": "python",
   "name": "python3"
  },
  "language_info": {
   "codemirror_mode": {
    "name": "ipython",
    "version": 3
   },
   "file_extension": ".py",
   "mimetype": "text/x-python",
   "name": "python",
   "nbconvert_exporter": "python",
   "pygments_lexer": "ipython3",
   "version": "3.11.9"
  }
 },
 "nbformat": 4,
 "nbformat_minor": 5
}
